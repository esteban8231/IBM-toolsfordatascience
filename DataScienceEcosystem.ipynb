{
 "cells": [
  {
   "cell_type": "markdown",
   "id": "355723e3",
   "metadata": {},
   "source": [
    "# Data Science Tools and Ecosystem"
   ]
  },
  {
   "cell_type": "markdown",
   "id": "25895e5f",
   "metadata": {},
   "source": [
    "In this notebook, Data Science Tools and Ecosystem are summarized."
   ]
  },
  {
   "cell_type": "markdown",
   "id": "7a9b4c68",
   "metadata": {},
   "source": [
    "**Objectives:**\n",
    "- Create a Jupyter Notebook\n",
    "- Insert code and markdown cells\n",
    "- Review simple concepts\n",
    "- Share your notebook through GitHub"
   ]
  },
  {
   "cell_type": "markdown",
   "id": "e642a8ae",
   "metadata": {},
   "source": [
    "Some of the commonly used languages used by *Data Scientists* include:\n",
    "1. R\n",
    "1. Python\n",
    "1. Java\n",
    "1. C++"
   ]
  },
  {
   "cell_type": "markdown",
   "id": "6f5ac376",
   "metadata": {},
   "source": [
    "Some of the commonly used **libraries** used by *Data Scientists* include:\n",
    "1. ggplot\n",
    "3. Pandas\n",
    "5. TensorFlow\n",
    "7. ScyPy"
   ]
  },
  {
   "cell_type": "markdown",
   "id": "d5bc63a5",
   "metadata": {},
   "source": [
    "|Data Science Tools|\n",
    "|-|\n",
    "|Git|\n",
    "|Anaconda|\n",
    "|Jupyter notebooks|"
   ]
  },
  {
   "cell_type": "markdown",
   "id": "9617e9e3",
   "metadata": {},
   "source": [
    "### Below are a few examples of evaluating arithmetic expressions in Python"
   ]
  },
  {
   "cell_type": "code",
   "execution_count": 2,
   "id": "7afd1815",
   "metadata": {},
   "outputs": [
    {
     "data": {
      "text/plain": [
       "17"
      ]
     },
     "execution_count": 2,
     "metadata": {},
     "output_type": "execute_result"
    }
   ],
   "source": [
    "# This is a simple arithmetic expression to multiply and then add integers.\n",
    "(3*4)+5"
   ]
  },
  {
   "cell_type": "code",
   "execution_count": 3,
   "id": "bbc72c26",
   "metadata": {},
   "outputs": [
    {
     "data": {
      "text/plain": [
       "33.333333333333336"
      ]
     },
     "execution_count": 3,
     "metadata": {},
     "output_type": "execute_result"
    }
   ],
   "source": [
    "# This will convert 200 minutes to hours dividing by 60.\n",
    "200/6"
   ]
  },
  {
   "cell_type": "markdown",
   "id": "5e606773",
   "metadata": {},
   "source": [
    "## Author\n",
    "Esteban González Morales"
   ]
  }
 ],
 "metadata": {
  "kernelspec": {
   "display_name": "Python 3 (ipykernel)",
   "language": "python",
   "name": "python3"
  },
  "language_info": {
   "codemirror_mode": {
    "name": "ipython",
    "version": 3
   },
   "file_extension": ".py",
   "mimetype": "text/x-python",
   "name": "python",
   "nbconvert_exporter": "python",
   "pygments_lexer": "ipython3",
   "version": "3.11.5"
  }
 },
 "nbformat": 4,
 "nbformat_minor": 5
}
